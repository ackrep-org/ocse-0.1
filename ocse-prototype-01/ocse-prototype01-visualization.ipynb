{
 "cells": [
  {
   "cell_type": "markdown",
   "metadata": {},
   "source": [
    "This notebook depends on the following code by the author:\n",
    "\n",
    "\n",
    "- https://github.com/cknoll/yamlpyowl\n",
    "- https://github.com/cknoll/semantictools\n",
    "\n",
    "\n",
    "For reproduction of the results, you probably need to install the version from the `develop` branch."
   ]
  },
  {
   "cell_type": "code",
   "execution_count": 1,
   "metadata": {},
   "outputs": [
    {
     "name": "stdout",
     "output_type": "stream",
     "text": [
      "Thu Feb 18 16:13:48 2021\n"
     ]
    },
    {
     "data": {
      "application/javascript": [
       "\n",
       "            setTimeout(function() {\n",
       "                var nbb_cell_id = 1;\n",
       "                var nbb_unformatted_code = \"import time\\n\\nprint(time.ctime())\\n%load_ext nb_black\\n%load_ext ipydex.displaytools\";\n",
       "                var nbb_formatted_code = \"import time\\n\\nprint(time.ctime())\\n%load_ext nb_black\\n%load_ext ipydex.displaytools\";\n",
       "                var nbb_cells = Jupyter.notebook.get_cells();\n",
       "                for (var i = 0; i < nbb_cells.length; ++i) {\n",
       "                    if (nbb_cells[i].input_prompt_number == nbb_cell_id) {\n",
       "                        if (nbb_cells[i].get_text() == nbb_unformatted_code) {\n",
       "                             nbb_cells[i].set_text(nbb_formatted_code);\n",
       "                        }\n",
       "                        break;\n",
       "                    }\n",
       "                }\n",
       "            }, 500);\n",
       "            "
      ],
      "text/plain": [
       "<IPython.core.display.Javascript object>"
      ]
     },
     "metadata": {},
     "output_type": "display_data"
    }
   ],
   "source": [
    "import time\n",
    "\n",
    "print(time.ctime())\n",
    "%load_ext nb_black\n",
    "%load_ext ipydex.displaytools"
   ]
  },
  {
   "cell_type": "code",
   "execution_count": 2,
   "metadata": {},
   "outputs": [
    {
     "data": {
      "application/javascript": [
       "\n",
       "            setTimeout(function() {\n",
       "                var nbb_cell_id = 2;\n",
       "                var nbb_unformatted_code = \"from IPython.display import SVG, display, HTML\\n\\nfrom semantictools import core as smt\\nfrom yamlpyowl import core as ypo\\n\\nimport importlib\\n\\n# for easier co-development of library and notebook\\nimportlib.reload(smt)\\nimportlib.reload(ypo)\\n\\n# for graphviz visualization of networkx graphs\\nimport nxv\";\n",
       "                var nbb_formatted_code = \"from IPython.display import SVG, display, HTML\\n\\nfrom semantictools import core as smt\\nfrom yamlpyowl import core as ypo\\n\\nimport importlib\\n\\n# for easier co-development of library and notebook\\nimportlib.reload(smt)\\nimportlib.reload(ypo)\\n\\n# for graphviz visualization of networkx graphs\\nimport nxv\";\n",
       "                var nbb_cells = Jupyter.notebook.get_cells();\n",
       "                for (var i = 0; i < nbb_cells.length; ++i) {\n",
       "                    if (nbb_cells[i].input_prompt_number == nbb_cell_id) {\n",
       "                        if (nbb_cells[i].get_text() == nbb_unformatted_code) {\n",
       "                             nbb_cells[i].set_text(nbb_formatted_code);\n",
       "                        }\n",
       "                        break;\n",
       "                    }\n",
       "                }\n",
       "            }, 500);\n",
       "            "
      ],
      "text/plain": [
       "<IPython.core.display.Javascript object>"
      ]
     },
     "metadata": {},
     "output_type": "display_data"
    }
   ],
   "source": [
    "from IPython.display import SVG, display, HTML\n",
    "\n",
    "from semantictools import core as smt\n",
    "from yamlpyowl import core as ypo\n",
    "\n",
    "import importlib\n",
    "\n",
    "# for easier co-development of library and notebook\n",
    "importlib.reload(smt)\n",
    "importlib.reload(ypo)\n",
    "\n",
    "# for graphviz visualization of networkx graphs\n",
    "import nxv"
   ]
  },
  {
   "cell_type": "code",
   "execution_count": 3,
   "metadata": {},
   "outputs": [
    {
     "data": {
      "application/javascript": [
       "\n",
       "            setTimeout(function() {\n",
       "                var nbb_cell_id = 3;\n",
       "                var nbb_unformatted_code = \"fpath = \\\"ocse-prototype-01.owl.yml\\\"\\nom = ypo.OntologyManager(fpath)\\n\\n# create an object for quick access to all entities:\\nn = om.name_mapping_container\";\n",
       "                var nbb_formatted_code = \"fpath = \\\"ocse-prototype-01.owl.yml\\\"\\nom = ypo.OntologyManager(fpath)\\n\\n# create an object for quick access to all entities:\\nn = om.name_mapping_container\";\n",
       "                var nbb_cells = Jupyter.notebook.get_cells();\n",
       "                for (var i = 0; i < nbb_cells.length; ++i) {\n",
       "                    if (nbb_cells[i].input_prompt_number == nbb_cell_id) {\n",
       "                        if (nbb_cells[i].get_text() == nbb_unformatted_code) {\n",
       "                             nbb_cells[i].set_text(nbb_formatted_code);\n",
       "                        }\n",
       "                        break;\n",
       "                    }\n",
       "                }\n",
       "            }, 500);\n",
       "            "
      ],
      "text/plain": [
       "<IPython.core.display.Javascript object>"
      ]
     },
     "metadata": {},
     "output_type": "display_data"
    }
   ],
   "source": [
    "fpath = \"ocse-prototype-01.owl.yml\"\n",
    "om = ypo.OntologyManager(fpath)\n",
    "\n",
    "# create an object for quick access to all entities:\n",
    "n = om.name_mapping_container"
   ]
  },
  {
   "cell_type": "code",
   "execution_count": 4,
   "metadata": {},
   "outputs": [
    {
     "data": {
      "text/plain": [
       "2"
      ]
     },
     "execution_count": 4,
     "metadata": {},
     "output_type": "execute_result"
    },
    {
     "data": {
      "application/javascript": [
       "\n",
       "            setTimeout(function() {\n",
       "                var nbb_cell_id = 4;\n",
       "                var nbb_unformatted_code = \"q = list(ypo.owl2.Thing.subclasses())\\n\\nlen(q)\";\n",
       "                var nbb_formatted_code = \"q = list(ypo.owl2.Thing.subclasses())\\n\\nlen(q)\";\n",
       "                var nbb_cells = Jupyter.notebook.get_cells();\n",
       "                for (var i = 0; i < nbb_cells.length; ++i) {\n",
       "                    if (nbb_cells[i].input_prompt_number == nbb_cell_id) {\n",
       "                        if (nbb_cells[i].get_text() == nbb_unformatted_code) {\n",
       "                             nbb_cells[i].set_text(nbb_formatted_code);\n",
       "                        }\n",
       "                        break;\n",
       "                    }\n",
       "                }\n",
       "            }, 500);\n",
       "            "
      ],
      "text/plain": [
       "<IPython.core.display.Javascript object>"
      ]
     },
     "metadata": {},
     "output_type": "display_data"
    }
   ],
   "source": [
    "q = list(ypo.owl2.Thing.subclasses())\n",
    "\n",
    "len(q)"
   ]
  },
  {
   "cell_type": "code",
   "execution_count": 5,
   "metadata": {},
   "outputs": [
    {
     "data": {
      "text/plain": [
       "(G.number_of_nodes()) := 47"
      ]
     },
     "metadata": {},
     "output_type": "display_data"
    },
    {
     "data": {
      "text/plain": [
       "---"
      ]
     },
     "metadata": {},
     "output_type": "display_data"
    },
    {
     "data": {
      "text/html": [
       "<a href='ocse-prototype01.svg'>ocse-prototype01.svg</a>"
      ],
      "text/plain": [
       "<IPython.core.display.HTML object>"
      ]
     },
     "metadata": {},
     "output_type": "display_data"
    },
    {
     "data": {
      "text/html": [
       "<a href=\"ocse-prototype01.svg\" title=\"click for original size\"><img width=\"100%\" src=\"ocse-prototype01.svg\"></a>"
      ],
      "text/plain": [
       "<IPython.core.display.HTML object>"
      ]
     },
     "execution_count": 5,
     "metadata": {},
     "output_type": "execute_result"
    },
    {
     "data": {
      "application/javascript": [
       "\n",
       "            setTimeout(function() {\n",
       "                var nbb_cell_id = 5;\n",
       "                var nbb_unformatted_code = \"G = smt.generate_taxonomy_graph_from_onto(ypo.owl2.Thing)\\ncustom_display(\\\"(G.number_of_nodes())\\\", (G.number_of_nodes())); display({\\\"text/plain\\\": \\\"---\\\"}, raw=True)\\n\\nstyle = nxv.Style(\\n    graph={\\\"rankdir\\\": \\\"BT\\\"},\\n    node=lambda u, d: {\\n        \\\"shape\\\": \\\"circle\\\",\\n        \\\"fixedsize\\\": True,\\n        \\\"width\\\": 1,\\n        \\\"fontsize\\\": 10,\\n    },\\n    edge=lambda u, v, d: {\\\"style\\\": \\\"solid\\\", \\\"arrowType\\\": \\\"normal\\\", \\\"label\\\": \\\"is a\\\"},\\n)\\n\\n\\n# svg_data = nxv.render(G, style)\\nsvg_data = nxv.render(G, style, format=\\\"svg\\\")\\n\\nsvg_fname = \\\"ocse-prototype01.svg\\\"\\n\\nwith open(svg_fname, \\\"wb\\\") as svgfile:\\n    svgfile.write(svg_data)\\n\\ndisplay(HTML(f\\\"<a href='{svg_fname}'>{svg_fname}</a>\\\"))\\n\\nHTML(\\n    f'<a href=\\\"{svg_fname}\\\" title=\\\"click for original size\\\"><img width=\\\"100%\\\" src=\\\"{svg_fname}\\\"></a>'\\n)\";\n",
       "                var nbb_formatted_code = \"G = smt.generate_taxonomy_graph_from_onto(ypo.owl2.Thing)\\ncustom_display(\\\"(G.number_of_nodes())\\\", (G.number_of_nodes()))\\ndisplay({\\\"text/plain\\\": \\\"---\\\"}, raw=True)\\n\\nstyle = nxv.Style(\\n    graph={\\\"rankdir\\\": \\\"BT\\\"},\\n    node=lambda u, d: {\\n        \\\"shape\\\": \\\"circle\\\",\\n        \\\"fixedsize\\\": True,\\n        \\\"width\\\": 1,\\n        \\\"fontsize\\\": 10,\\n    },\\n    edge=lambda u, v, d: {\\\"style\\\": \\\"solid\\\", \\\"arrowType\\\": \\\"normal\\\", \\\"label\\\": \\\"is a\\\"},\\n)\\n\\n\\n# svg_data = nxv.render(G, style)\\nsvg_data = nxv.render(G, style, format=\\\"svg\\\")\\n\\nsvg_fname = \\\"ocse-prototype01.svg\\\"\\n\\nwith open(svg_fname, \\\"wb\\\") as svgfile:\\n    svgfile.write(svg_data)\\n\\ndisplay(HTML(f\\\"<a href='{svg_fname}'>{svg_fname}</a>\\\"))\\n\\nHTML(\\n    f'<a href=\\\"{svg_fname}\\\" title=\\\"click for original size\\\"><img width=\\\"100%\\\" src=\\\"{svg_fname}\\\"></a>'\\n)\";\n",
       "                var nbb_cells = Jupyter.notebook.get_cells();\n",
       "                for (var i = 0; i < nbb_cells.length; ++i) {\n",
       "                    if (nbb_cells[i].input_prompt_number == nbb_cell_id) {\n",
       "                        if (nbb_cells[i].get_text() == nbb_unformatted_code) {\n",
       "                             nbb_cells[i].set_text(nbb_formatted_code);\n",
       "                        }\n",
       "                        break;\n",
       "                    }\n",
       "                }\n",
       "            }, 500);\n",
       "            "
      ],
      "text/plain": [
       "<IPython.core.display.Javascript object>"
      ]
     },
     "metadata": {},
     "output_type": "display_data"
    }
   ],
   "source": [
    "G = smt.generate_taxonomy_graph_from_onto(ypo.owl2.Thing)\n",
    "\n",
    "G.number_of_nodes() ##:\n",
    "\n",
    "style = nxv.Style(\n",
    "    graph={\"rankdir\": \"BT\"},\n",
    "    node=lambda u, d: {\n",
    "        \"shape\": \"circle\",\n",
    "        \"fixedsize\": True,\n",
    "        \"width\": 1,\n",
    "        \"fontsize\": 10,\n",
    "    },\n",
    "    edge=lambda u, v, d: {\"style\": \"solid\", \"arrowType\": \"normal\", \"label\": \"is a\"},\n",
    ")\n",
    "\n",
    "\n",
    "# svg_data = nxv.render(G, style)\n",
    "svg_data = nxv.render(G, style, format=\"svg\")\n",
    "\n",
    "svg_fname = \"ocse-prototype01.svg\"\n",
    "\n",
    "with open(svg_fname, \"wb\") as svgfile:\n",
    "    svgfile.write(svg_data)\n",
    "    \n",
    "display(HTML(f\"<a href='{svg_fname}'>{svg_fname}</a>\"))\n",
    "\n",
    "HTML(\n",
    "    f'<a href=\"{svg_fname}\" title=\"click for original size\"><img width=\"100%\" src=\"{svg_fname}\"></a>'\n",
    ")"
   ]
  },
  {
   "cell_type": "code",
   "execution_count": 6,
   "metadata": {},
   "outputs": [
    {
     "data": {
      "text/plain": [
       "[<<property object at 0x7f3a6162f130> 'Rational_Function'>,\n",
       " <<property object at 0x7f3a6162f130> 'Monovariate_Polynomial'>,\n",
       " <<property object at 0x7f3a6162f130> 'Step_Function'>,\n",
       " <<property object at 0x7f3a6162f130> 'Harmonic_Function'>]"
      ]
     },
     "execution_count": 6,
     "metadata": {},
     "output_type": "execute_result"
    },
    {
     "data": {
      "application/javascript": [
       "\n",
       "            setTimeout(function() {\n",
       "                var nbb_cell_id = 6;\n",
       "                var nbb_unformatted_code = \"list(n.SISO_Mathematical_Function.subclasses())\";\n",
       "                var nbb_formatted_code = \"list(n.SISO_Mathematical_Function.subclasses())\";\n",
       "                var nbb_cells = Jupyter.notebook.get_cells();\n",
       "                for (var i = 0; i < nbb_cells.length; ++i) {\n",
       "                    if (nbb_cells[i].input_prompt_number == nbb_cell_id) {\n",
       "                        if (nbb_cells[i].get_text() == nbb_unformatted_code) {\n",
       "                             nbb_cells[i].set_text(nbb_formatted_code);\n",
       "                        }\n",
       "                        break;\n",
       "                    }\n",
       "                }\n",
       "            }, 500);\n",
       "            "
      ],
      "text/plain": [
       "<IPython.core.display.Javascript object>"
      ]
     },
     "metadata": {},
     "output_type": "display_data"
    }
   ],
   "source": [
    "list(n.SISO_Mathematical_Function.subclasses())"
   ]
  },
  {
   "cell_type": "code",
   "execution_count": 7,
   "metadata": {},
   "outputs": [
    {
     "data": {
      "text/plain": [
       "[<<property object at 0x7f3a6162f130> 'Signal_Type'>,\n",
       " <<property object at 0x7f3a6162f130> 'SISO_Mathematical_Function'>]"
      ]
     },
     "execution_count": 7,
     "metadata": {},
     "output_type": "execute_result"
    },
    {
     "data": {
      "application/javascript": [
       "\n",
       "            setTimeout(function() {\n",
       "                var nbb_cell_id = 7;\n",
       "                var nbb_unformatted_code = \"list(n.Harmonic_Function.is_a)\";\n",
       "                var nbb_formatted_code = \"list(n.Harmonic_Function.is_a)\";\n",
       "                var nbb_cells = Jupyter.notebook.get_cells();\n",
       "                for (var i = 0; i < nbb_cells.length; ++i) {\n",
       "                    if (nbb_cells[i].input_prompt_number == nbb_cell_id) {\n",
       "                        if (nbb_cells[i].get_text() == nbb_unformatted_code) {\n",
       "                             nbb_cells[i].set_text(nbb_formatted_code);\n",
       "                        }\n",
       "                        break;\n",
       "                    }\n",
       "                }\n",
       "            }, 500);\n",
       "            "
      ],
      "text/plain": [
       "<IPython.core.display.Javascript object>"
      ]
     },
     "metadata": {},
     "output_type": "display_data"
    }
   ],
   "source": [
    "list(n.Harmonic_Function.is_a)"
   ]
  },
  {
   "cell_type": "code",
   "execution_count": 8,
   "metadata": {},
   "outputs": [
    {
     "data": {
      "application/javascript": [
       "\n",
       "            setTimeout(function() {\n",
       "                var nbb_cell_id = 8;\n",
       "                var nbb_unformatted_code = \"q = smt.cache.node_cache[\\n    \\\"https://w3id.org/yet/undefined/ocse-prototype01#Harmonic_Function\\\"\\n]\";\n",
       "                var nbb_formatted_code = \"q = smt.cache.node_cache[\\n    \\\"https://w3id.org/yet/undefined/ocse-prototype01#Harmonic_Function\\\"\\n]\";\n",
       "                var nbb_cells = Jupyter.notebook.get_cells();\n",
       "                for (var i = 0; i < nbb_cells.length; ++i) {\n",
       "                    if (nbb_cells[i].input_prompt_number == nbb_cell_id) {\n",
       "                        if (nbb_cells[i].get_text() == nbb_unformatted_code) {\n",
       "                             nbb_cells[i].set_text(nbb_formatted_code);\n",
       "                        }\n",
       "                        break;\n",
       "                    }\n",
       "                }\n",
       "            }, 500);\n",
       "            "
      ],
      "text/plain": [
       "<IPython.core.display.Javascript object>"
      ]
     },
     "metadata": {},
     "output_type": "display_data"
    }
   ],
   "source": [
    "q = smt.cache.node_cache[\n",
    "    \"https://w3id.org/yet/undefined/ocse-prototype01#Harmonic_Function\"\n",
    "]"
   ]
  },
  {
   "cell_type": "code",
   "execution_count": 9,
   "metadata": {},
   "outputs": [
    {
     "data": {
      "text/plain": [
       "[]"
      ]
     },
     "execution_count": 9,
     "metadata": {},
     "output_type": "execute_result"
    },
    {
     "data": {
      "application/javascript": [
       "\n",
       "            setTimeout(function() {\n",
       "                var nbb_cell_id = 9;\n",
       "                var nbb_unformatted_code = \"list(G.successors(q))\\n\\nlist(G.predecessors(q))\";\n",
       "                var nbb_formatted_code = \"list(G.successors(q))\\n\\nlist(G.predecessors(q))\";\n",
       "                var nbb_cells = Jupyter.notebook.get_cells();\n",
       "                for (var i = 0; i < nbb_cells.length; ++i) {\n",
       "                    if (nbb_cells[i].input_prompt_number == nbb_cell_id) {\n",
       "                        if (nbb_cells[i].get_text() == nbb_unformatted_code) {\n",
       "                             nbb_cells[i].set_text(nbb_formatted_code);\n",
       "                        }\n",
       "                        break;\n",
       "                    }\n",
       "                }\n",
       "            }, 500);\n",
       "            "
      ],
      "text/plain": [
       "<IPython.core.display.Javascript object>"
      ]
     },
     "metadata": {},
     "output_type": "display_data"
    }
   ],
   "source": [
    "list(G.successors(q))\n",
    "\n",
    "list(G.predecessors(q))"
   ]
  }
 ],
 "metadata": {
  "kernelspec": {
   "display_name": "Python 3",
   "language": "python",
   "name": "python3"
  },
  "language_info": {
   "codemirror_mode": {
    "name": "ipython",
    "version": 3
   },
   "file_extension": ".py",
   "mimetype": "text/x-python",
   "name": "python",
   "nbconvert_exporter": "python",
   "pygments_lexer": "ipython3",
   "version": "3.8.6"
  }
 },
 "nbformat": 4,
 "nbformat_minor": 4
}
